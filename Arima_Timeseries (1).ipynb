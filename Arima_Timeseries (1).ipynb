{
 "cells": [
  {
   "cell_type": "markdown",
   "metadata": {},
   "source": [
    "# Arima_Timeseries\n",
    "\n",
    "Use the \"Run\" button to execute the code."
   ]
  },
  {
   "cell_type": "code",
   "execution_count": null,
   "metadata": {},
   "outputs": [],
   "source": [
    "!pip install jovian --upgrade --quiet"
   ]
  },
  {
   "cell_type": "code",
   "execution_count": null,
   "metadata": {},
   "outputs": [],
   "source": [
    "import jovian"
   ]
  },
  {
   "cell_type": "code",
   "execution_count": null,
   "metadata": {},
   "outputs": [
    {
     "data": {
      "application/javascript": [
       "window.require && require([\"base/js/namespace\"],function(Jupyter){Jupyter.notebook.save_checkpoint()})"
      ],
      "text/plain": [
       "<IPython.core.display.Javascript object>"
      ]
     },
     "metadata": {},
     "output_type": "display_data"
    }
   ],
   "source": [
    "# Execute this to save new versions of the notebook\n",
    "jovian.commit(project=\"arima-timeseries\")"
   ]
  },
  {
   "cell_type": "code",
   "execution_count": null,
   "metadata": {},
   "outputs": [],
   "source": [
    "pip install pmdarima"
   ]
  },
  {
   "cell_type": "code",
   "execution_count": null,
   "metadata": {},
   "outputs": [],
   "source": [
    "pip show statsmodels"
   ]
  },
  {
   "cell_type": "code",
   "execution_count": null,
   "metadata": {},
   "outputs": [],
   "source": [
    "from sklearn.metrics import mean_absolute_error"
   ]
  },
  {
   "cell_type": "code",
   "execution_count": null,
   "metadata": {},
   "outputs": [],
   "source": [
    "import pandas as pd\n",
    "import numpy as np\n",
    "import statsmodels.api as sm\n",
    "from pandas import DataFrame\n",
    "import pathlib\n",
    "from urllib.request import urlretrieve\n",
    "import matplotlib.pyplot as plt\n",
    "import statsmodels.api as sm\n",
    "import seaborn as sns\n",
    "from statsmodels.tsa.api import SimpleExpSmoothing,Holt,ExponentialSmoothing,acf, graphics, pacf,SARIMAX \n",
    "from statsmodels.tsa.ar_model import AutoReg, ar_select_order\n",
    "from statsmodels.tsa.deterministic import DeterministicProcess\n",
    "from statsmodels.tsa.arima.model import ARIMA\n",
    "from statsmodels.graphics.api import qqplot\n",
    "from statsmodels.tsa.seasonal import STL,seasonal_decompose\n",
    "from statsmodels.tsa.stattools import adfuller, kpss\n",
    "import pmdarima as pm\n",
    "import warnings\n",
    "warnings.filterwarnings('ignore')\n",
    "from statsmodels.tools.tools import maybe_unwrap_results\n",
    "from statsmodels.graphics.gofplots import ProbPlot\n",
    "from typing import Type"
   ]
  },
  {
   "cell_type": "code",
   "execution_count": null,
   "metadata": {},
   "outputs": [],
   "source": [
    "\n",
    "sns.set_style(\"darkgrid\")\n",
    "pd.plotting.register_matplotlib_converters()\n",
    "# Default figure size\n",
    "sns.mpl.rc(\"figure\", figsize=(16, 6))"
   ]
  },
  {
   "cell_type": "code",
   "execution_count": null,
   "metadata": {},
   "outputs": [],
   "source": [
    "exchangerate_df = pd.read_csv('exchange_rate.csv')\n",
    "exchangerate_df"
   ]
  },
  {
   "cell_type": "code",
   "execution_count": null,
   "metadata": {},
   "outputs": [],
   "source": [
    "exchangerate_df.describe()"
   ]
  },
  {
   "cell_type": "code",
   "execution_count": null,
   "metadata": {},
   "outputs": [],
   "source": [
    "exchangerate_df"
   ]
  },
  {
   "cell_type": "code",
   "execution_count": null,
   "metadata": {},
   "outputs": [],
   "source": [
    "exchangerate_df['exchange_rate'].index = pd.date_range(\"01-01-2000\",\"22-02-2022\",freq='D')"
   ]
  },
  {
   "cell_type": "code",
   "execution_count": null,
   "metadata": {},
   "outputs": [],
   "source": [
    "plt.plot(exchangerate_df['exchange_rate'],color= 'tomato')\n"
   ]
  },
  {
   "cell_type": "markdown",
   "metadata": {},
   "source": [
    "**Original Series**"
   ]
  },
  {
   "cell_type": "code",
   "execution_count": null,
   "metadata": {
    "scrolled": true
   },
   "outputs": [],
   "source": [
    "plt.plot(exchangerate_df.exchange_rate)\n",
    "plt.show()"
   ]
  },
  {
   "cell_type": "code",
   "execution_count": null,
   "metadata": {},
   "outputs": [],
   "source": [
    "fig, axes = plt.subplots(1, 2)\n",
    "\n",
    "fig = sm.graphics.tsa.plot_acf(exchangerate_df.exchange_rate, lags=40, ax=axes[0])\n",
    "fig = sm.graphics.tsa.plot_pacf(exchangerate_df.exchange_rate, lags=40, ax=axes[1])"
   ]
  },
  {
   "cell_type": "code",
   "execution_count": null,
   "metadata": {},
   "outputs": [],
   "source": [
    "adftest = adfuller(exchangerate_df.exchange_rate,autolag=\"AIC\")\n",
    "print('ADF Statistic: %f' % adftest[0])\n",
    "print('p-value: %f' % adftest[1])"
   ]
  },
  {
   "cell_type": "code",
   "execution_count": null,
   "metadata": {},
   "outputs": [],
   "source": [
    "kpsstest = kpss(exchangerate_df.exchange_rate, regression=\"c\", nlags=\"auto\")\n",
    "print('KPSS Statistic: %f' % kpsstest[0])\n",
    "print('p-value: %f' % kpsstest[1])"
   ]
  },
  {
   "cell_type": "code",
   "execution_count": null,
   "metadata": {},
   "outputs": [],
   "source": [
    "t = np.arange(1,8090)\n",
    "exchangerate_df.insert(2,\"Time\",t)"
   ]
  },
  {
   "cell_type": "code",
   "execution_count": null,
   "metadata": {},
   "outputs": [],
   "source": [
    "exchangerate_df"
   ]
  },
  {
   "cell_type": "code",
   "execution_count": null,
   "metadata": {},
   "outputs": [],
   "source": [
    "monthly_exchange_rate = exchangerate_df['exchange_rate'].resample('M').mean()"
   ]
  },
  {
   "cell_type": "code",
   "execution_count": null,
   "metadata": {},
   "outputs": [],
   "source": [
    "monthly_exchange_rate"
   ]
  },
  {
   "cell_type": "code",
   "execution_count": null,
   "metadata": {},
   "outputs": [],
   "source": [
    "\n",
    "plt.plot(monthly_exchange_rate,color= 'tomato')\n",
    "plt.xlabel(\"Time Period\")\n",
    "plt.ylabel(\"Monthly Exchange Rate (Rupee/Dollar)\")"
   ]
  },
  {
   "cell_type": "code",
   "execution_count": null,
   "metadata": {},
   "outputs": [],
   "source": [
    "exchangerate_df['D_exchange_rate']=exchangerate_df['exchange_rate'].diff()"
   ]
  },
  {
   "cell_type": "code",
   "execution_count": null,
   "metadata": {},
   "outputs": [],
   "source": [
    "exchangerate_df['D_exchange_rate']"
   ]
  },
  {
   "cell_type": "code",
   "execution_count": null,
   "metadata": {},
   "outputs": [],
   "source": [
    "exchangerate_df['D_exchange_rate'].dropna().plot()"
   ]
  },
  {
   "cell_type": "code",
   "execution_count": null,
   "metadata": {},
   "outputs": [],
   "source": [
    "fig, axes = plt.subplots(1, 2, figsize=(15,4))\n",
    "\n",
    "fig = sm.graphics.tsa.plot_acf(exchangerate_df.D_exchange_rate.dropna(), lags=40, ax=axes[0])\n",
    "fig = sm.graphics.tsa.plot_pacf(exchangerate_df.D_exchange_rate.dropna(), lags=40, ax=axes[1])"
   ]
  },
  {
   "cell_type": "code",
   "execution_count": null,
   "metadata": {},
   "outputs": [],
   "source": [
    "adftest1 = adfuller(exchangerate_df.D_exchange_rate.dropna(),autolag=\"AIC\")\n",
    "print('ADF Statistic: %f' % adftest1[0])\n",
    "print('p-value: %f' % adftest1[1])"
   ]
  },
  {
   "cell_type": "code",
   "execution_count": null,
   "metadata": {},
   "outputs": [],
   "source": [
    "kpsstest1 = kpss(exchangerate_df.D_exchange_rate.dropna(), regression=\"c\", nlags=\"auto\")\n",
    "print('KPSS Statistic: %f' % kpsstest1[0])\n",
    "print('p-value: %f' % kpsstest1[1])"
   ]
  },
  {
   "cell_type": "code",
   "execution_count": null,
   "metadata": {},
   "outputs": [],
   "source": [
    "exchangerate_df['ln_exchangerate'] = np.log(exchangerate_df['exchange_rate'])\n",
    "exchangerate_df['D.ln_exchangerate'] = exchangerate_df['ln_exchangerate'].diff()"
   ]
  },
  {
   "cell_type": "code",
   "execution_count": null,
   "metadata": {},
   "outputs": [],
   "source": [
    "exchangerate_df['D.7.D_exchange_rate']=exchangerate_df['D_exchange_rate'].diff(7)"
   ]
  },
  {
   "cell_type": "code",
   "execution_count": null,
   "metadata": {},
   "outputs": [],
   "source": [
    "exchangerate_df"
   ]
  },
  {
   "cell_type": "code",
   "execution_count": null,
   "metadata": {},
   "outputs": [],
   "source": [
    "exchangerate_df['D.7.D_exchange_rate'].dropna().plot()"
   ]
  },
  {
   "cell_type": "code",
   "execution_count": null,
   "metadata": {},
   "outputs": [],
   "source": [
    "fig, axes = plt.subplots(1, 2)\n",
    "\n",
    "fig = sm.graphics.tsa.plot_acf(exchangerate_df['D.7.D_exchange_rate'].dropna(), lags=30, ax=axes[0],color= 'tomato')\n",
    "fig = sm.graphics.tsa.plot_pacf(exchangerate_df['D.7.D_exchange_rate'].dropna(), lags=30, ax=axes[1],color= 'tomato')"
   ]
  },
  {
   "cell_type": "code",
   "execution_count": null,
   "metadata": {},
   "outputs": [],
   "source": [
    "model.plot_diagnostics(figsize=(7,5))\n",
    "plt.show()"
   ]
  },
  {
   "cell_type": "code",
   "execution_count": null,
   "metadata": {},
   "outputs": [],
   "source": [
    "res.plot_diagnostics()"
   ]
  },
  {
   "cell_type": "code",
   "execution_count": null,
   "metadata": {},
   "outputs": [],
   "source": [
    "print(res.test_normality(method='jarquebera'))"
   ]
  },
  {
   "cell_type": "code",
   "execution_count": null,
   "metadata": {},
   "outputs": [],
   "source": [
    "residuals = DataFrame(res.resid)"
   ]
  },
  {
   "cell_type": "code",
   "execution_count": null,
   "metadata": {},
   "outputs": [],
   "source": [
    "residuals"
   ]
  },
  {
   "cell_type": "code",
   "execution_count": null,
   "metadata": {},
   "outputs": [],
   "source": [
    "np.mean(residuals**2)"
   ]
  },
  {
   "cell_type": "markdown",
   "metadata": {},
   "source": [
    "order      pmse \n",
    "=(2,1,2)  0.270635\n",
    "   (2 1 0) (1 1 0) 12        0.054452\n",
    "   (2 1 2) (1 0 1) 7        0.036246\n",
    "   "
   ]
  },
  {
   "cell_type": "code",
   "execution_count": null,
   "metadata": {},
   "outputs": [],
   "source": [
    "fig, ax = plt.subplots(figsize=(9,4))\n",
    "predict_dy = res.get_prediction(dynamic='22-02-2022')\n",
    "predict_dy.predicted_mean.loc['22-10-2021':].plot(ax=ax, style='g', label='Dynamic forecast (2022)')"
   ]
  },
  {
   "cell_type": "markdown",
   "metadata": {},
   "source": [
    "Monthly data analysis"
   ]
  },
  {
   "cell_type": "code",
   "execution_count": null,
   "metadata": {},
   "outputs": [],
   "source": []
  },
  {
   "cell_type": "code",
   "execution_count": null,
   "metadata": {},
   "outputs": [],
   "source": [
    "fig, axes = plt.subplots(1, 2)\n",
    "\n",
    "fig = sm.graphics.tsa.plot_acf(monthly_exchange_rate, lags=40, ax=axes[0],color= 'tomato')\n",
    "fig = sm.graphics.tsa.plot_pacf(monthly_exchange_rate, lags=40, ax=axes[1],color= 'tomato')"
   ]
  },
  {
   "cell_type": "code",
   "execution_count": null,
   "metadata": {},
   "outputs": [],
   "source": [
    "adftest = adfuller(monthly_exchange_rate,autolag=\"AIC\")\n",
    "print('ADF Statistic: %f' % adftest[0])\n",
    "print('p-value: %f' % adftest[1])"
   ]
  },
  {
   "cell_type": "code",
   "execution_count": null,
   "metadata": {},
   "outputs": [],
   "source": [
    "adftest = adfuller(D12_D_monthly_exchange_rate.dropna(),autolag=\"AIC\")\n",
    "print('ADF Statistic: %f' % adftest[0])\n",
    "print('p-value: %f' % adftest[1])"
   ]
  },
  {
   "cell_type": "code",
   "execution_count": null,
   "metadata": {},
   "outputs": [],
   "source": [
    "kpsstest = kpss(monthly_exchange_rate, regression=\"c\", nlags=\"auto\")\n",
    "print('KPSS Statistic: %f' % kpsstest[0])\n",
    "print('p-value: %f' % kpsstest[1])"
   ]
  },
  {
   "cell_type": "code",
   "execution_count": null,
   "metadata": {},
   "outputs": [],
   "source": [
    "kpsstest = kpss(D12_D_monthly_exchange_rate.dropna(), regression=\"c\", nlags=\"auto\")\n",
    "print('KPSS Statistic: %f' % kpsstest[0])\n",
    "print('p-value: %f' % kpsstest[1])"
   ]
  },
  {
   "cell_type": "code",
   "execution_count": null,
   "metadata": {
    "scrolled": true
   },
   "outputs": [],
   "source": [
    "monthly_exchange_rate.describe()"
   ]
  },
  {
   "cell_type": "code",
   "execution_count": null,
   "metadata": {},
   "outputs": [],
   "source": [
    "stepwise_fit = pm.auto_arima(monthly_exchange_rate, start_p = 1, start_q = 1,\n",
    "                          max_p = 1, max_q = 1, m = 12,\n",
    "                          start_P = 1,max_P = 3,start_Q = 0,max_Q = 1, seasonal = True,\n",
    "                          d = 1, D = 1, trace = True,\n",
    "                          error_action ='ignore',   # we don't want to know if an order does not work\n",
    "                          suppress_warnings = True,  # we don't want convergence warnings\n",
    "                          stepwise = True)           # set to stepwise\n",
    "stepwise_fit.summary()"
   ]
  },
  {
   "cell_type": "code",
   "execution_count": null,
   "metadata": {},
   "outputs": [],
   "source": [
    "type(stepwise_fit)"
   ]
  },
  {
   "cell_type": "code",
   "execution_count": null,
   "metadata": {},
   "outputs": [],
   "source": [
    "stepwise_fit.plot_diagnostics()\n",
    "plt.show()"
   ]
  },
  {
   "cell_type": "code",
   "execution_count": null,
   "metadata": {},
   "outputs": [],
   "source": [
    "D_monthly_exchange_rate"
   ]
  },
  {
   "cell_type": "code",
   "execution_count": null,
   "metadata": {},
   "outputs": [],
   "source": [
    "D12_D_monthly_exchange_rate"
   ]
  },
  {
   "cell_type": "code",
   "execution_count": null,
   "metadata": {},
   "outputs": [],
   "source": [
    "D_monthly_exchange_rate=monthly_exchange_rate.diff()\n",
    "plt.plot(D_monthly_exchange_rate)\n"
   ]
  },
  {
   "cell_type": "code",
   "execution_count": null,
   "metadata": {},
   "outputs": [],
   "source": [
    "D12_D_monthly_exchange_rate=D_monthly_exchange_rate.diff(12)\n",
    "plt.plot(D12_D_monthly_exchange_rate)\n",
    "plt.xlabel(\"Time Period\")\n",
    "plt.ylabel(\"D12_D_monthly_exchange_rate (Rupee/Dollar)\")"
   ]
  },
  {
   "cell_type": "code",
   "execution_count": null,
   "metadata": {},
   "outputs": [],
   "source": [
    "monthly_exchange_rate_df=pd.DataFrame({'monthly_exchange_rate':monthly_exchange_rate})"
   ]
  },
  {
   "cell_type": "code",
   "execution_count": null,
   "metadata": {
    "scrolled": true
   },
   "outputs": [],
   "source": [
    "monthly_exchange_rate_df.describe()"
   ]
  },
  {
   "cell_type": "code",
   "execution_count": null,
   "metadata": {},
   "outputs": [],
   "source": [
    "monthly_exchange_rate_df['monthly_exchange_rate'].index = pd.date_range(\"2000-01-31\",\"2022-02-28 \",freq='M')"
   ]
  },
  {
   "cell_type": "code",
   "execution_count": null,
   "metadata": {},
   "outputs": [],
   "source": [
    "t = np.arange(1,267)\n",
    "monthly_exchange_rate_df.insert(1,\"time\",t)"
   ]
  },
  {
   "cell_type": "code",
   "execution_count": null,
   "metadata": {},
   "outputs": [],
   "source": [
    "monthly_exchange_rate"
   ]
  },
  {
   "cell_type": "code",
   "execution_count": null,
   "metadata": {},
   "outputs": [],
   "source": [
    "D12_D_monthly_exchange_rate.dropna()"
   ]
  },
  {
   "cell_type": "markdown",
   "metadata": {},
   "source": [
    "# **Model Selection**"
   ]
  },
  {
   "cell_type": "code",
   "execution_count": null,
   "metadata": {},
   "outputs": [],
   "source": [
    "fig, axes = plt.subplots(1, 2)\n",
    "\n",
    "fig = sm.graphics.tsa.plot_acf(D12_D_monthly_exchange_rate.dropna(), lags=40, ax=axes[0],color= 'tomato')\n",
    "fig = sm.graphics.tsa.plot_pacf(D12_D_monthly_exchange_rate.dropna(), lags=40, ax=axes[1],color= 'tomato')"
   ]
  },
  {
   "cell_type": "code",
   "execution_count": null,
   "metadata": {},
   "outputs": [],
   "source": [
    "D12_D_test.dropna()"
   ]
  },
  {
   "cell_type": "code",
   "execution_count": null,
   "metadata": {},
   "outputs": [],
   "source": [
    "test"
   ]
  },
  {
   "cell_type": "code",
   "execution_count": null,
   "metadata": {},
   "outputs": [],
   "source": [
    "test = test.drop(columns=['Time', 'D_exchange_rate','ln_exchangerate','D.ln_exchangerate','D.7.D_exchange_rate'])\n",
    "\n"
   ]
  },
  {
   "cell_type": "code",
   "execution_count": null,
   "metadata": {},
   "outputs": [],
   "source": [
    "test.head()"
   ]
  },
  {
   "cell_type": "code",
   "execution_count": null,
   "metadata": {},
   "outputs": [],
   "source": [
    "D_train=train.diff()\n",
    "D12_D_train=D_train.diff(12)\n",
    "D_test=test.diff()\n",
    "D12_D_test=D_test.diff(12)"
   ]
  },
  {
   "cell_type": "code",
   "execution_count": null,
   "metadata": {},
   "outputs": [],
   "source": [
    "start_date = \"2018-10-31\"\n",
    "end_date = \"2022-02-28\"\n",
    "\n",
    "model_s31_arima_21 = sm.tsa.statespace.SARIMAX(D12_D_train.dropna(), order=(0,0,1),seasonal_order= (3,0,1,12))\n",
    "results_s31_arima_21 = model_s31_arima_21.fit(disp=False)\n",
    "df_pred_s31_arima_21 = results_s31_arima_21.predict(start = start_date, end = end_date)\n",
    "df_pred_s31_arima_21 = pd.DataFrame(df_pred_s31_arima_21)\n",
    "mse_s31_arima_21 = mean_squared_error(D12_D_test.dropna(), df_pred_s31_arima_21 )\n",
    "mae_s31_arima_21 = mean_absolute_error(D12_D_test.dropna(), df_pred_s31_arima_21 )\n",
    "print('AIC s31_arima_21: %f' % results_s31_arima_21 .aic)\n",
    "print('MAE s31_arima_21: %f' % mae_s31_arima_21)\n",
    "print('MSE s31_arima_21: %f' % mse_s31_arima_21)\n"
   ]
  },
  {
   "cell_type": "code",
   "execution_count": null,
   "metadata": {},
   "outputs": [],
   "source": [
    "from sklearn.metrics import mean_absolute_error"
   ]
  },
  {
   "cell_type": "markdown",
   "metadata": {},
   "source": [
    "**diagonostic**D12_D_"
   ]
  },
  {
   "cell_type": "code",
   "execution_count": null,
   "metadata": {
    "scrolled": true
   },
   "outputs": [],
   "source": [
    "modsarima = sm.tsa.statespace.SARIMAX(D12_D_monthly_exchange_rate.dropna(), order=(1,0,1),seasonal_order= (3,0,1,12))\n",
    "resarima = modsarima.fit(disp=False)\n",
    "print(resarima.summary())"
   ]
  },
  {
   "cell_type": "code",
   "execution_count": null,
   "metadata": {},
   "outputs": [],
   "source": [
    "print(resarima.test_normality(method='jarquebera'))"
   ]
  },
  {
   "cell_type": "code",
   "execution_count": null,
   "metadata": {},
   "outputs": [],
   "source": [
    "resarima.plot_diagnostics(figsize=(15,10))\n",
    "plt.show()"
   ]
  },
  {
   "cell_type": "code",
   "execution_count": null,
   "metadata": {},
   "outputs": [],
   "source": [
    "fig, axes = plt.subplots(1, 2)\n",
    "\n",
    "fig = sm.graphics.tsa.plot_acf(residuals, lags=40, ax=axes[0],color= 'tomato',alpha = 0.05)\n",
    "fig = sm.graphics.tsa.plot_pacf(residuals, lags=40, ax=axes[1],color= 'tomato',alpha = 0.05)"
   ]
  },
  {
   "cell_type": "code",
   "execution_count": null,
   "metadata": {},
   "outputs": [],
   "source": [
    "residuals = pd.Series(resarima.resid)"
   ]
  },
  {
   "cell_type": "code",
   "execution_count": null,
   "metadata": {},
   "outputs": [],
   "source": [
    "np.mean(residuals**2)"
   ]
  },
  {
   "cell_type": "code",
   "execution_count": null,
   "metadata": {},
   "outputs": [],
   "source": [
    "# ETS Decomposition\n",
    "result = seasonal_decompose(monthly_exchange_rate, \n",
    "                            model ='additive')\n",
    "  \n",
    "# ETS plot \n",
    "result.plot()\n",
    "plt.rcParams[\"font.weight\"] = \"bold\"\n",
    "plt.rcParams[\"axes.labelweight\"] = \"bold\"\n",
    "plt.show()"
   ]
  },
  {
   "cell_type": "code",
   "execution_count": null,
   "metadata": {},
   "outputs": [],
   "source": [
    "# Split data into train / test sets\n",
    "\n",
    "size = int(len(monthly_exchange_rate)*0.9)\n",
    "train, test = monthly_exchange_rate.iloc[:size], monthly_exchange_rate.iloc[size:]"
   ]
  },
  {
   "cell_type": "code",
   "execution_count": null,
   "metadata": {},
   "outputs": [],
   "source": [
    "train"
   ]
  },
  {
   "cell_type": "code",
   "execution_count": null,
   "metadata": {},
   "outputs": [],
   "source": []
  },
  {
   "cell_type": "code",
   "execution_count": null,
   "metadata": {},
   "outputs": [],
   "source": [
    "\n",
    "# Fit a SARIMAX on the training set\n",
    "from statsmodels.tsa.statespace.sarimax import SARIMAX\n",
    "  \n",
    "model1 = SARIMAX(train, \n",
    "                order = (1,1, 1), \n",
    "                seasonal_order =(3, 1, 1, 12))\n",
    "  \n",
    "result1 = model1.fit()\n",
    "result1.summary()"
   ]
  },
  {
   "cell_type": "code",
   "execution_count": null,
   "metadata": {},
   "outputs": [],
   "source": [
    "stepwise_fit.plot_diagnostics()\n",
    "plt.show()"
   ]
  },
  {
   "cell_type": "code",
   "execution_count": null,
   "metadata": {},
   "outputs": [],
   "source": [
    "# Predictions of ARIMA Model against the test set\n",
    "\n",
    "\n",
    "start = len(train)\n",
    "end = len(train) + len(test) - 1\n",
    "  \n",
    "# Predictions against the test set\n",
    "predictions = result1.predict(start, end,\n",
    "                             typ = 'levels').rename(\"Predictions\")\n",
    "error_sarima = np.subtract(test,predictions)  \n",
    "# plot predictions and actual values\n",
    "predictions.plot(legend = True)\n",
    "test.plot(legend = True)"
   ]
  },
  {
   "cell_type": "code",
   "execution_count": null,
   "metadata": {},
   "outputs": [],
   "source": [
    "test"
   ]
  },
  {
   "cell_type": "code",
   "execution_count": null,
   "metadata": {},
   "outputs": [],
   "source": [
    "# In-sample one-step-ahead predictions\n",
    "predict = result1.get_prediction(start='2019-12-31',end = '2022-02-28')\n",
    "predict_ci = predict.conf_int( alpha=0.05)\n",
    "# Graph\n",
    "fig, ax = plt.subplots(figsize=(9,4))\n",
    "npre = 4\n",
    "ax.set(title='exchange rate forecasting', xlabel='Date', ylabel='RUPEE')\n",
    "\n",
    "\n",
    "test.plot(figsize = (12, 5),ax=ax, label='Actual Data',legend = True)\n",
    "\n",
    "# Plot predictions\n",
    "predict.predicted_mean.loc['2019-12-31':].plot(figsize = (12, 5),ax=ax, label='Forecast by SARIMA',legend = True)\n",
    "ci = predict_ci.loc['2019-12-31':]\n",
    "ax.fill_between(ci.index, ci.iloc[:,0], ci.iloc[:,1], alpha=0.1)"
   ]
  },
  {
   "cell_type": "code",
   "execution_count": null,
   "metadata": {},
   "outputs": [],
   "source": [
    "\n",
    "from sklearn.metrics import mean_squared_error\n",
    "from statsmodels.tools.eval_measures import rmse\n",
    "  \n",
    "rmse(test, predictions)\n",
    "  \n",
    "\n",
    "mean_squared_error(test, predictions)"
   ]
  },
  {
   "cell_type": "markdown",
   "metadata": {},
   "source": [
    "**Exponential Smoothing**"
   ]
  },
  {
   "cell_type": "code",
   "execution_count": null,
   "metadata": {},
   "outputs": [],
   "source": [
    "fitExponentialSmoothing = ExponentialSmoothing(\n",
    "    train,\n",
    "    seasonal_periods=12,\n",
    "    trend=\"add\",\n",
    "    seasonal=\"add\",\n",
    "    use_boxcox=True,\n",
    "    initialization_method=\"estimated\",\n",
    ").fit()\n",
    "\n",
    "fitHolt_Damp = Holt(train, damped_trend=True, initialization_method=\"estimated\").fit()\n",
    "HES_optimal = Holt(train,initialization_method='estimated').fit()\n",
    "\n",
    "\n",
    "error_ExpSm = np.subtract(test,fitExponentialSmoothing.forecast(27))\n",
    "error_HES = np.subtract(test,HES_optimal.forecast(27))  \n",
    "error_DHES = np.subtract(test,fitHolt_Damp.forecast(27)) \n",
    "\n",
    "resultsexpss = pd.DataFrame(\n",
    "    index=[r\"$\\alpha$\", r\"$\\beta$\", r\"$\\phi$\", r\"$\\gamma$\", r\"$l_0$\", \"$b_0$\", \"SSE\"]\n",
    ")\n",
    "params = [\n",
    "    \"smoothing_level\",\n",
    "    \"smoothing_trend\",\n",
    "    \"damping_trend\",\n",
    "    \"smoothing_seasonal\",\n",
    "    \"initial_level\",\n",
    "    \"initial_trend\",\n",
    "]\n",
    "resultsexpss[\"Additive\"] = [fitExponentialSmoothing.params[p] for p in params] + [fitExponentialSmoothing.sse]\n",
    "\n",
    "\n",
    "plt.plot( test,label=\"original dataset\")\n",
    "plt.plot(fitExponentialSmoothing.forecast(27),label=\"Forecasts by Holt-Winters method (add-add-seasonal)\")\n",
    "plt.plot(fitHolt_Damp.forecast(27),label=\"Forecasts by Holt Damped method\")\n",
    "plt.plot(HES_optimal.forecast(27),label=\"Forecasts by Holt method\")\n",
    "plt.title(\"Forecasts and simulations from Holt-Winters' additive method\")\n",
    "plt.xlabel(\"Year\")\n",
    "plt.ylabel(\"exchangerate\")\n",
    "plt.legend()\n",
    "plt.show()\n",
    "resultsexpss"
   ]
  },
  {
   "cell_type": "code",
   "execution_count": null,
   "metadata": {},
   "outputs": [],
   "source": [
    "# plot for test data using all forecasting method\n",
    "plt.plot(test,label='Actual data(test)')\n",
    "plt.plot(predictions,label='Predictions from SARIMA')\n",
    "\n",
    "plt.plot(fitExponentialSmoothing.forecast(27),label=\"Holt-Winters (add-add-seasonal)\")\n",
    "plt.plot(HES_optimal.forecast(27),label=\"Holt \")\n",
    "plt.plot(fitHolt_Damp.forecast(27),label=\"Forecasts by Holt Damped method\")\n",
    "plt.xlabel(\"Year\")\n",
    "plt.ylabel(\"exchangerate\")\n",
    "plt.legend()"
   ]
  },
  {
   "cell_type": "code",
   "execution_count": null,
   "metadata": {},
   "outputs": [],
   "source": [
    "np.mean(error_sarima**2)"
   ]
  },
  {
   "cell_type": "code",
   "execution_count": null,
   "metadata": {},
   "outputs": [],
   "source": [
    "np.mean(error_ExpSm**2)"
   ]
  },
  {
   "cell_type": "code",
   "execution_count": null,
   "metadata": {},
   "outputs": [],
   "source": [
    "np.mean(error_HES**2)"
   ]
  },
  {
   "cell_type": "code",
   "execution_count": null,
   "metadata": {},
   "outputs": [],
   "source": [
    "np.mean(error_DHES**2)"
   ]
  },
  {
   "cell_type": "code",
   "execution_count": null,
   "metadata": {},
   "outputs": [],
   "source": [
    "# Errors from all the models\n",
    "\n",
    "plt.plot(error_ExpSm,label=\"Holt-Winters error (add-add-seasonal)\")\n",
    "plt.plot(error_sarima,label='errors from SARIMA')\n",
    "plt.plot(error_HES,label=\"Holt error \")\n",
    "plt.plot(error_DHES,label=\"Holt Damped error \")\n",
    "plt.title(\"errors by method\")\n",
    "plt.xlabel(\"Year\")\n",
    "plt.ylabel(\"exchangerate\")\n",
    "plt.legend()\n",
    "plt.axhline(y =0, color = 'black', linestyle = 'dashed')\n",
    "plt.show()\n"
   ]
  },
  {
   "cell_type": "markdown",
   "metadata": {},
   "source": [
    "**Full Data Training**"
   ]
  },
  {
   "cell_type": "code",
   "execution_count": null,
   "metadata": {
    "code_folding": []
   },
   "outputs": [],
   "source": [
    "# Train the model on the full dataset\n",
    "model = model = SARIMAX(monthly_exchange_rate, \n",
    "                        order = (2, 1, 1), \n",
    "                        seasonal_order =(3, 1, 1, 12))\n",
    "result = model.fit()\n",
    "  \n",
    "# Forecast for the next 3 years\n",
    "forecast = result.predict(start = len(monthly_exchange_rate), \n",
    "                          end = (len(monthly_exchange_rate)-1) + 3 * 12, \n",
    "                          typ = 'levels').rename('Forecast')\n",
    "  \n",
    "# Plot the forecast values\n",
    "monthly_exchange_rate.plot(figsize = (12, 5), legend = True)\n",
    "forecast.plot(legend = True)"
   ]
  },
  {
   "cell_type": "code",
   "execution_count": null,
   "metadata": {},
   "outputs": [],
   "source": [
    "# In-sample one-step-ahead predictions\n",
    "predict = result.get_prediction(start='2022-02-28',end = '2024-02-28')\n",
    "predict_ci = predict.conf_int()\n",
    "# Graph\n",
    "fig, ax = plt.subplots(figsize=(9,4))\n",
    "npre = 4\n",
    "ax.set(title='exchange rate', xlabel='Date', ylabel='RUPEE')\n",
    "\n",
    "# Plot data points\n",
    "monthly_exchange_rate.plot(figsize = (12, 5),ax=ax, label='Observed')\n",
    "\n",
    "# Plot predictions\n",
    "predict.predicted_mean.loc['2022-02-28':].plot(figsize = (12, 5),ax=ax, label='One-step-ahead forecast')\n",
    "ci = predict_ci.loc['2022-02-28':]\n",
    "ax.fill_between(ci.index, ci.iloc[:,0], ci.iloc[:,1], alpha=0.1)"
   ]
  }
 ],
 "metadata": {
  "kernelspec": {
   "display_name": "Python 3 (ipykernel)",
   "language": "python",
   "name": "python3"
  },
  "language_info": {
   "codemirror_mode": {
    "name": "ipython",
    "version": 3
   },
   "file_extension": ".py",
   "mimetype": "text/x-python",
   "name": "python",
   "nbconvert_exporter": "python",
   "pygments_lexer": "ipython3",
   "version": "3.9.6"
  }
 },
 "nbformat": 4,
 "nbformat_minor": 2
}
