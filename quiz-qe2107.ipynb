{
 "cells": [
  {
   "cell_type": "markdown",
   "metadata": {},
   "source": [
    "# quiz-qe2107\n",
    "\n",
    "Use the \"Run\" button to execute the code."
   ]
  },
  {
   "cell_type": "code",
   "execution_count": 1,
   "metadata": {},
   "outputs": [],
   "source": [
    "!pip install jovian --upgrade --quiet"
   ]
  },
  {
   "cell_type": "code",
   "execution_count": 2,
   "metadata": {},
   "outputs": [],
   "source": [
    "import jovian"
   ]
  },
  {
   "cell_type": "code",
   "execution_count": null,
   "metadata": {},
   "outputs": [
    {
     "data": {
      "application/javascript": [
       "window.require && require([\"base/js/namespace\"],function(Jupyter){Jupyter.notebook.save_checkpoint()})"
      ],
      "text/plain": [
       "<IPython.core.display.Javascript object>"
      ]
     },
     "metadata": {},
     "output_type": "display_data"
    }
   ],
   "source": [
    "# Execute this to save new versions of the notebook\n",
    "jovian.commit(project=\"quiz-qe2107\")"
   ]
  },
  {
   "cell_type": "code",
   "execution_count": null,
   "metadata": {},
   "outputs": [],
   "source": [
    "import pandas as pd\n",
    "import numpy as np\n",
    "import statsmodels.api as sm\n",
    "from pandas import DataFrame\n",
    "import pathlib\n",
    "import matplotlib.pyplot as plt\n",
    "from statsmodels.tsa.api import SimpleExpSmoothing,Holt,ExponentialSmoothing\n",
    "plt.style.use('seaborn')"
   ]
  },
  {
   "cell_type": "code",
   "execution_count": null,
   "metadata": {},
   "outputs": [],
   "source": [
    "import warnings\n",
    "from statsmodels.tools.sm_exceptions import ConvergenceWarning\n",
    "warnings.simplefilter('ignore', ConvergenceWarning)"
   ]
  },
  {
   "cell_type": "code",
   "execution_count": null,
   "metadata": {},
   "outputs": [],
   "source": [
    "pip show statsmodels"
   ]
  },
  {
   "cell_type": "code",
   "execution_count": null,
   "metadata": {},
   "outputs": [],
   "source": [
    "y_t = []\n",
    "time = np.arange(500)   \n",
    "y_t.append (2 + np.random.normal())\n",
    "for i in range(499):     \n",
    "    y_t.append(2 + (0.6)*i + (0.7)*y_t[i] + np.random.normal())\n",
    "\n",
    "plt.plot(time,y_t)\n"
   ]
  },
  {
   "cell_type": "code",
   "execution_count": null,
   "metadata": {},
   "outputs": [],
   "source": [
    "y_t = pd.Series(y_t)\n",
    "y_t.index = pd.date_range(start = \"30-01-2022\", periods = 500, freq ='D')\n",
    "plt.plot(y_t)"
   ]
  },
  {
   "cell_type": "markdown",
   "metadata": {},
   "source": [
    "**Simple Exponential Smoothing**"
   ]
  },
  {
   "cell_type": "code",
   "execution_count": null,
   "metadata": {},
   "outputs": [],
   "source": [
    "alpha = np.linspace(0.1,1,10,True)\n",
    "SESfit =[]\n",
    "plt.plot(y_t[490:])\n",
    "for a in alpha:\n",
    "  SES = SimpleExpSmoothing(y_t,initialization_method = 'estimated').fit(smoothing_level=a, optimized = False,use_brute= False)\n",
    "  SESfit.append(SES.fittedvalues)\n",
    "  SESforecast = SES.forecast(10)\n",
    "  plt.plot(SESforecast,label=\" estimated alpha = {:.2f}\".format(a))\n",
    "plt.legend()\n",
    "\n",
    "plt.figure(figsize=(15,3))"
   ]
  },
  {
   "cell_type": "code",
   "execution_count": null,
   "metadata": {},
   "outputs": [],
   "source": [
    "SESpmse=[np.mean((y_t-SESfit[i])**2) for i  in range(10)]\n",
    "SESbest = np.where(SESpmse == np.min(SESpmse))                 \n",
    "print(\"minimum SESpmse among all cases:=\",np.min(SESpmse))\n",
    "print(\"The optimal value of alpha is=\",alpha[SESbest[0]])"
   ]
  },
  {
   "cell_type": "code",
   "execution_count": null,
   "metadata": {},
   "outputs": [],
   "source": [
    "plt.plot(y_t[490:])\n",
    "SES_bestmodel = SimpleExpSmoothing(y_t,initialization_method='estimated').fit(smoothing_level=alpha[SESbest[0]],optimized = False)\n",
    "plt.plot(SES_bestmodel.forecast(10),label = \"alpha={:.1f}\".format(SES_bestmodel.params[\"smoothing_level\"]))\n",
    "plt.legend()\n",
    "plt.show()"
   ]
  },
  {
   "cell_type": "markdown",
   "metadata": {},
   "source": [
    "**Holts Exponential Smoothing**"
   ]
  },
  {
   "cell_type": "code",
   "execution_count": null,
   "metadata": {
    "code_folding": []
   },
   "outputs": [],
   "source": [
    "beta = np.linspace(0.1,1,10)\n",
    "HESfit=[]\n",
    "for a in alpha:\n",
    "    HESarr=[]\n",
    "    for b in beta:\n",
    "        HES = Holt(y_t,initialization_method='heuristic').fit(smoothing_level=a, smoothing_trend=b, optimized = False,use_brute= False)\n",
    "        HESarr.append(HES.fittedvalues)\n",
    "    HESfit.append(HESarr)\n",
    "HESPMSE = [[np.mean((y_t-HESfit[i][j])**2) for j in range(10)] for i in range(10)]"
   ]
  },
  {
   "cell_type": "code",
   "execution_count": null,
   "metadata": {},
   "outputs": [],
   "source": [
    "print(\"minimum HESPMSE from parameters  best found by grid search method :\",np.min(HESPMSE))"
   ]
  },
  {
   "cell_type": "code",
   "execution_count": null,
   "metadata": {},
   "outputs": [],
   "source": [
    "HESbest = np.where(HESPMSE == np.min(HESPMSE))"
   ]
  },
  {
   "cell_type": "code",
   "execution_count": null,
   "metadata": {},
   "outputs": [],
   "source": [
    "HES_bestmodel = Holt(y_t,initialization_method='estimated').fit(smoothing_level=alpha[HESbest[0][0]], smoothing_trend=beta[HESbest[1][0]], optimized = False)\n",
    "HES_optimizedmodel = Holt(y_t,initialization_method='estimated').fit()"
   ]
  },
  {
   "cell_type": "code",
   "execution_count": null,
   "metadata": {},
   "outputs": [],
   "source": [
    "print(\" Optimal parameters best found by python function: Alpha={:.2f}, Beta={:.2f}\".format(HES_optimizedmodel.params['smoothing_level'],HES_optimizedmodel.params['smoothing_trend']))\n",
    "print(\" Optimal parameters best found by grid search method: Alpha={:.1f}, Beta={:.1f}\".format(alpha[HESbest[0][0]],beta[HESbest[1][0]]))"
   ]
  },
  {
   "cell_type": "code",
   "execution_count": null,
   "metadata": {},
   "outputs": [],
   "source": [
    "plt.plot(y_t[490:])\n",
    "plt.plot(HES_bestmodel.forecast(10),label = \"found by grid search method:alpha={:.1f}, beta={:.1f}\".format(HES_bestmodel.params[\"smoothing_level\"],HES_bestmodel.params[\"smoothing_trend\"]))\n",
    "plt.plot(HES_optimizedmodel.forecast(10),label = \"found by python function : alpha={:.2f}, beta={:.2f}\".format(HES_optimizedmodel.params[\"smoothing_level\"],HES_optimizedmodel.params[\"smoothing_trend\"]))\n",
    "plt.legend()\n",
    "plt.show()"
   ]
  },
  {
   "cell_type": "markdown",
   "metadata": {},
   "source": [
    "**Damped Holt Exp Smoothing**"
   ]
  },
  {
   "cell_type": "code",
   "execution_count": null,
   "metadata": {
    "scrolled": true
   },
   "outputs": [],
   "source": [
    "gamma = np.linspace(0.1,1,10)\n",
    "DHESfit=[]\n",
    "for a in alpha:\n",
    "    DHESarr=[]\n",
    "    for b in beta:\n",
    "        DHES = Holt(y_t,initialization_method='estimated',damped_trend=True).fit(smoothing_level=a, smoothing_trend=b)\n",
    "        DHESarr.append(DHES.fittedvalues)\n",
    "    DHESfit.append(DHESarr)\n",
    "DHESPMSE = [[np.mean((y_t-DHESfit[i][j])**2) for j in range(10)] for i in range(10)]\n",
    "print(\"minimum DHESPMSE from given parameters:\",np.min(DHESPMSE))\n",
    "DHESbest = np.where(DHESPMSE == np.min(DHESPMSE))\n",
    "DHES_bestmodel = Holt(y_t,initialization_method='estimated').fit(smoothing_level=alpha[DHESbest[0][0]], smoothing_trend=beta[DHESbest[1][0]])\n",
    "DHES_optimizedmodel = Holt(y_t,initialization_method='estimated').fit()\n",
    "print(\"Optimal parameters best found by python function: Alpha={:.2f}, Beta={:.2f},Gamma={:.2f}\".format(DHES_optimizedmodel.params['smoothing_level'],DHES_optimizedmodel.params['smoothing_trend'],DHES_optimizedmodel.params['damping_trend']))\n",
    "print(\"Optimal parameters best found by grid search method:: Alpha={:.1f}, Beta={:.1f},Gamma={:.2f}\".format(alpha[DHESbest[0][0]],beta[DHESbest[1][0]],DHES_bestmodel.params['damping_trend']))"
   ]
  },
  {
   "cell_type": "code",
   "execution_count": null,
   "metadata": {},
   "outputs": [],
   "source": [
    "plt.figure(figsize=(12, 8))\n",
    "plt.plot(y_t[490:], color=\"black\")\n",
    "plt.plot(DHES_bestmodel.forecast(10), color=\"blue\",label = \"found by grid search method:alpha={:.1f}, beta={:.1f},Gamma={:.1f}\".format(alpha[DHESbest[0][0]],beta[DHESbest[1][0]],DHES_bestmodel.params['damping_trend']))\n",
    "plt.plot(DHES_optimizedmodel.forecast(10), color=\"red\",label = \"found by python function : alpha={:.2f}, beta={:.2f},Gamma={:.2f}\".format(DHES_optimizedmodel.params['smoothing_level'],DHES_optimizedmodel.params['smoothing_trend'],DHES_optimizedmodel.params['damping_trend']))\n",
    "plt.legend()\n",
    "plt.show()"
   ]
  },
  {
   "cell_type": "markdown",
   "metadata": {},
   "source": [
    "**Comparing the forecasts of all methods using the models of grtid search**"
   ]
  },
  {
   "cell_type": "code",
   "execution_count": null,
   "metadata": {},
   "outputs": [],
   "source": [
    "plt.plot(y_t[490:], color=\"black\")\n",
    "plt.plot(SES_bestmodel.forecast(10),label = \"alpha={:.1f}\".format(SES_bestmodel.params[\"smoothing_level\"]))\n",
    "plt.plot(HES_bestmodel.forecast(10),label = \"found by grid search method:alpha={:.1f}, beta={:.1f}\".format(HES_bestmodel.params[\"smoothing_level\"],HES_bestmodel.params[\"smoothing_trend\"]))\n",
    "plt.plot(DHES_bestmodel.forecast(10), color=\"blue\",label = \"found by grid search method:alpha={:.1f}, beta={:.1f},Gamma={:.1f}\".format(alpha[DHESbest[0][0]],beta[DHESbest[1][0]],DHES_bestmodel.params['damping_trend']))"
   ]
  },
  {
   "cell_type": "code",
   "execution_count": null,
   "metadata": {},
   "outputs": [],
   "source": []
  }
 ],
 "metadata": {
  "language_info": {
   "codemirror_mode": {
    "name": "ipython",
    "version": 3
   },
   "file_extension": ".py",
   "mimetype": "text/x-python",
   "name": "python",
   "nbconvert_exporter": "python",
   "pygments_lexer": "ipython3",
   "version": "3.9.6"
  }
 },
 "nbformat": 4,
 "nbformat_minor": 2
}